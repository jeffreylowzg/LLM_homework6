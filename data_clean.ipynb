{
 "cells": [
  {
   "cell_type": "markdown",
   "metadata": {},
   "source": [
    "Download dataset and saves 5%"
   ]
  },
  {
   "cell_type": "code",
   "execution_count": 2,
   "metadata": {},
   "outputs": [
    {
     "name": "stderr",
     "output_type": "stream",
     "text": [
      "/root/miniconda3/lib/python3.12/site-packages/tqdm/auto.py:21: TqdmWarning: IProgress not found. Please update jupyter and ipywidgets. See https://ipywidgets.readthedocs.io/en/stable/user_install.html\n",
      "  from .autonotebook import tqdm as notebook_tqdm\n",
      "Generating train split: 100%|██████████| 1000000/1000000 [00:22<00:00, 44728.36 examples/s]\n"
     ]
    },
    {
     "name": "stdout",
     "output_type": "stream",
     "text": [
      "5% of the dataset has been saved to 'data/sample_5_percent.csv'\n"
     ]
    }
   ],
   "source": [
    "from datasets import load_dataset\n",
    "import pandas as pd\n",
    "import os\n",
    "\n",
    "# Load the dataset from Hugging Face\n",
    "dataset = load_dataset(\"dmitva/human_ai_generated_text\", split=\"train\")\n",
    "\n",
    "# Calculate 5% of the dataset size\n",
    "sample_size = int(0.05 * len(dataset))\n",
    "\n",
    "# Sample 5% of the data\n",
    "sampled_dataset = dataset.shuffle(seed=42).select(range(sample_size))\n",
    "\n",
    "# Convert to pandas DataFrame for easier handling\n",
    "df = pd.DataFrame(sampled_dataset)\n",
    "\n",
    "# Ensure the 'data' directory exists\n",
    "os.makedirs(\"data\", exist_ok=True)\n",
    "\n",
    "# Save to a CSV file in the 'data' folder\n",
    "df.to_csv(\"data/sample_5_percent.csv\", index=False)\n",
    "\n",
    "print(\"5% of the dataset has been saved to 'data/sample_5_percent.csv'\")\n"
   ]
  },
  {
   "cell_type": "markdown",
   "metadata": {},
   "source": [
    "Read saved data and split into labels 0 (for human) and 1 (for ai)"
   ]
  },
  {
   "cell_type": "code",
   "execution_count": 3,
   "metadata": {},
   "outputs": [],
   "source": [
    "import json\n",
    "\n",
    "# Read the sampled CSV file\n",
    "df = pd.read_csv(\"data/sample_5_percent.csv\")\n",
    "\n",
    "# Initialize an empty list to hold the new records\n",
    "data = []\n",
    "\n",
    "# Process each row to create two entries: one for human text, one for AI text\n",
    "for _, row in df.iterrows():\n",
    "    # Append the human text with label 0\n",
    "    data.append({\n",
    "        \"text\": row[\"human_text\"],\n",
    "        \"instructions\": row[\"instructions\"],\n",
    "        \"label\": 0\n",
    "    })\n",
    "    \n",
    "    # Append the AI text with label 1\n",
    "    data.append({\n",
    "        \"text\": row[\"ai_text\"],\n",
    "        \"instructions\": row[\"instructions\"],\n",
    "        \"label\": 1\n",
    "    })\n",
    "\n",
    "# Save the processed data to a JSON file\n",
    "with open(\"data/sample_5_percent.json\", \"w\") as f:\n",
    "    json.dump(data, f, indent=4)\n",
    "\n",
    "print(\"The dataset has been saved to 'data/sample_5_percent.json' with the specified format.\")"
   ]
  },
  {
   "cell_type": "code",
   "execution_count": null,
   "metadata": {},
   "outputs": [],
   "source": []
  }
 ],
 "metadata": {
  "kernelspec": {
   "display_name": "base",
   "language": "python",
   "name": "python3"
  },
  "language_info": {
   "codemirror_mode": {
    "name": "ipython",
    "version": 3
   },
   "file_extension": ".py",
   "mimetype": "text/x-python",
   "name": "python",
   "nbconvert_exporter": "python",
   "pygments_lexer": "ipython3",
   "version": "3.12.4"
  }
 },
 "nbformat": 4,
 "nbformat_minor": 2
}
