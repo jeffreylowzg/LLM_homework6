{
  "cells": [
    {
      "cell_type": "markdown",
      "metadata": {
        "colab_type": "text",
        "id": "view-in-github"
      },
      "source": [
        "<a href=\"https://colab.research.google.com/github/jeffreylowzg/LLM_homework6/blob/jeffrey-commits/data_clean.ipynb\" target=\"_parent\"><img src=\"https://colab.research.google.com/assets/colab-badge.svg\" alt=\"Open In Colab\"/></a>"
      ]
    },
    {
      "cell_type": "code",
      "execution_count": 16,
      "metadata": {
        "colab": {
          "base_uri": "https://localhost:8080/"
        },
        "id": "ZvPJTNsAqunz",
        "outputId": "9e9cae4c-f992-42c4-e774-2401221c5ea6"
      },
      "outputs": [
        {
          "name": "stderr",
          "output_type": "stream",
          "text": [
            "huggingface/tokenizers: The current process just got forked, after parallelism has already been used. Disabling parallelism to avoid deadlocks...\n",
            "To disable this warning, you can either:\n",
            "\t- Avoid using `tokenizers` before the fork if possible\n",
            "\t- Explicitly set the environment variable TOKENIZERS_PARALLELISM=(true | false)\n"
          ]
        },
        {
          "name": "stdout",
          "output_type": "stream",
          "text": [
            "Requirement already satisfied: huggingface_hub[cli] in /root/miniconda3/lib/python3.12/site-packages (0.26.2)\n",
            "Requirement already satisfied: filelock in /root/miniconda3/lib/python3.12/site-packages (from huggingface_hub[cli]) (3.13.1)\n",
            "Requirement already satisfied: fsspec>=2023.5.0 in /root/miniconda3/lib/python3.12/site-packages (from huggingface_hub[cli]) (2024.9.0)\n",
            "Requirement already satisfied: packaging>=20.9 in /root/miniconda3/lib/python3.12/site-packages (from huggingface_hub[cli]) (24.1)\n",
            "Requirement already satisfied: pyyaml>=5.1 in /root/miniconda3/lib/python3.12/site-packages (from huggingface_hub[cli]) (6.0.2)\n",
            "Requirement already satisfied: requests in /root/miniconda3/lib/python3.12/site-packages (from huggingface_hub[cli]) (2.32.3)\n",
            "Requirement already satisfied: tqdm>=4.42.1 in /root/miniconda3/lib/python3.12/site-packages (from huggingface_hub[cli]) (4.66.4)\n",
            "Requirement already satisfied: typing-extensions>=3.7.4.3 in /root/miniconda3/lib/python3.12/site-packages (from huggingface_hub[cli]) (4.11.0)\n",
            "Requirement already satisfied: InquirerPy==0.3.4 in /root/miniconda3/lib/python3.12/site-packages (from huggingface_hub[cli]) (0.3.4)\n",
            "Requirement already satisfied: pfzy<0.4.0,>=0.3.1 in /root/miniconda3/lib/python3.12/site-packages (from InquirerPy==0.3.4->huggingface_hub[cli]) (0.3.4)\n",
            "Requirement already satisfied: prompt-toolkit<4.0.0,>=3.0.1 in /root/miniconda3/lib/python3.12/site-packages (from InquirerPy==0.3.4->huggingface_hub[cli]) (3.0.48)\n",
            "Requirement already satisfied: charset-normalizer<4,>=2 in /root/miniconda3/lib/python3.12/site-packages (from requests->huggingface_hub[cli]) (3.3.2)\n",
            "Requirement already satisfied: idna<4,>=2.5 in /root/miniconda3/lib/python3.12/site-packages (from requests->huggingface_hub[cli]) (3.7)\n",
            "Requirement already satisfied: urllib3<3,>=1.21.1 in /root/miniconda3/lib/python3.12/site-packages (from requests->huggingface_hub[cli]) (2.2.2)\n",
            "Requirement already satisfied: certifi>=2017.4.17 in /root/miniconda3/lib/python3.12/site-packages (from requests->huggingface_hub[cli]) (2024.8.30)\n",
            "Requirement already satisfied: wcwidth in /root/miniconda3/lib/python3.12/site-packages (from prompt-toolkit<4.0.0,>=3.0.1->InquirerPy==0.3.4->huggingface_hub[cli]) (0.2.13)\n",
            "\u001b[33mWARNING: Running pip as the 'root' user can result in broken permissions and conflicting behaviour with the system package manager, possibly rendering your system unusable.It is recommended to use a virtual environment instead: https://pip.pypa.io/warnings/venv. Use the --root-user-action option if you know what you are doing and want to suppress this warning.\u001b[0m\u001b[33m\n",
            "\u001b[0m"
          ]
        },
        {
          "name": "stderr",
          "output_type": "stream",
          "text": [
            "huggingface/tokenizers: The current process just got forked, after parallelism has already been used. Disabling parallelism to avoid deadlocks...\n",
            "To disable this warning, you can either:\n",
            "\t- Avoid using `tokenizers` before the fork if possible\n",
            "\t- Explicitly set the environment variable TOKENIZERS_PARALLELISM=(true | false)\n"
          ]
        },
        {
          "name": "stdout",
          "output_type": "stream",
          "text": [
            "Requirement already satisfied: torch in /root/miniconda3/lib/python3.12/site-packages (2.4.1)\n",
            "Requirement already satisfied: numpy in /root/miniconda3/lib/python3.12/site-packages (2.1.3)\n",
            "Requirement already satisfied: tqdm in /root/miniconda3/lib/python3.12/site-packages (4.66.4)\n",
            "Requirement already satisfied: datasets in /root/miniconda3/lib/python3.12/site-packages (3.1.0)\n",
            "Requirement already satisfied: peft in /root/miniconda3/lib/python3.12/site-packages (0.13.2)\n",
            "Requirement already satisfied: accelerate in /root/miniconda3/lib/python3.12/site-packages (1.1.1)\n",
            "Requirement already satisfied: transformers[torch] in /root/miniconda3/lib/python3.12/site-packages (4.46.2)\n",
            "Requirement already satisfied: filelock in /root/miniconda3/lib/python3.12/site-packages (from torch) (3.13.1)\n",
            "Requirement already satisfied: typing-extensions>=4.8.0 in /root/miniconda3/lib/python3.12/site-packages (from torch) (4.11.0)\n",
            "Requirement already satisfied: sympy in /root/miniconda3/lib/python3.12/site-packages (from torch) (1.13.2)\n",
            "Requirement already satisfied: networkx in /root/miniconda3/lib/python3.12/site-packages (from torch) (3.3)\n",
            "Requirement already satisfied: jinja2 in /root/miniconda3/lib/python3.12/site-packages (from torch) (3.1.4)\n",
            "Requirement already satisfied: fsspec in /root/miniconda3/lib/python3.12/site-packages (from torch) (2024.9.0)\n",
            "Requirement already satisfied: setuptools in /root/miniconda3/lib/python3.12/site-packages (from torch) (72.1.0)\n",
            "Requirement already satisfied: huggingface-hub<1.0,>=0.23.2 in /root/miniconda3/lib/python3.12/site-packages (from transformers[torch]) (0.26.2)\n",
            "Requirement already satisfied: packaging>=20.0 in /root/miniconda3/lib/python3.12/site-packages (from transformers[torch]) (24.1)\n",
            "Requirement already satisfied: pyyaml>=5.1 in /root/miniconda3/lib/python3.12/site-packages (from transformers[torch]) (6.0.2)\n",
            "Requirement already satisfied: regex!=2019.12.17 in /root/miniconda3/lib/python3.12/site-packages (from transformers[torch]) (2024.11.6)\n",
            "Requirement already satisfied: requests in /root/miniconda3/lib/python3.12/site-packages (from transformers[torch]) (2.32.3)\n",
            "Requirement already satisfied: safetensors>=0.4.1 in /root/miniconda3/lib/python3.12/site-packages (from transformers[torch]) (0.4.5)\n",
            "Requirement already satisfied: tokenizers<0.21,>=0.20 in /root/miniconda3/lib/python3.12/site-packages (from transformers[torch]) (0.20.3)\n",
            "Requirement already satisfied: pyarrow>=15.0.0 in /root/miniconda3/lib/python3.12/site-packages (from datasets) (18.0.0)\n",
            "Requirement already satisfied: dill<0.3.9,>=0.3.0 in /root/miniconda3/lib/python3.12/site-packages (from datasets) (0.3.8)\n",
            "Requirement already satisfied: pandas in /root/miniconda3/lib/python3.12/site-packages (from datasets) (2.2.3)\n",
            "Requirement already satisfied: xxhash in /root/miniconda3/lib/python3.12/site-packages (from datasets) (3.5.0)\n",
            "Requirement already satisfied: multiprocess<0.70.17 in /root/miniconda3/lib/python3.12/site-packages (from datasets) (0.70.16)\n",
            "Requirement already satisfied: aiohttp in /root/miniconda3/lib/python3.12/site-packages (from datasets) (3.11.2)\n",
            "Requirement already satisfied: psutil in /root/miniconda3/lib/python3.12/site-packages (from peft) (6.1.0)\n",
            "Requirement already satisfied: aiohappyeyeballs>=2.3.0 in /root/miniconda3/lib/python3.12/site-packages (from aiohttp->datasets) (2.4.3)\n",
            "Requirement already satisfied: aiosignal>=1.1.2 in /root/miniconda3/lib/python3.12/site-packages (from aiohttp->datasets) (1.3.1)\n",
            "Requirement already satisfied: attrs>=17.3.0 in /root/miniconda3/lib/python3.12/site-packages (from aiohttp->datasets) (24.2.0)\n",
            "Requirement already satisfied: frozenlist>=1.1.1 in /root/miniconda3/lib/python3.12/site-packages (from aiohttp->datasets) (1.5.0)\n",
            "Requirement already satisfied: multidict<7.0,>=4.5 in /root/miniconda3/lib/python3.12/site-packages (from aiohttp->datasets) (6.1.0)\n",
            "Requirement already satisfied: propcache>=0.2.0 in /root/miniconda3/lib/python3.12/site-packages (from aiohttp->datasets) (0.2.0)\n",
            "Requirement already satisfied: yarl<2.0,>=1.17.0 in /root/miniconda3/lib/python3.12/site-packages (from aiohttp->datasets) (1.17.2)\n",
            "Requirement already satisfied: charset-normalizer<4,>=2 in /root/miniconda3/lib/python3.12/site-packages (from requests->transformers[torch]) (3.3.2)\n",
            "Requirement already satisfied: idna<4,>=2.5 in /root/miniconda3/lib/python3.12/site-packages (from requests->transformers[torch]) (3.7)\n",
            "Requirement already satisfied: urllib3<3,>=1.21.1 in /root/miniconda3/lib/python3.12/site-packages (from requests->transformers[torch]) (2.2.2)\n",
            "Requirement already satisfied: certifi>=2017.4.17 in /root/miniconda3/lib/python3.12/site-packages (from requests->transformers[torch]) (2024.8.30)\n",
            "Requirement already satisfied: MarkupSafe>=2.0 in /root/miniconda3/lib/python3.12/site-packages (from jinja2->torch) (2.1.3)\n",
            "Requirement already satisfied: python-dateutil>=2.8.2 in /root/miniconda3/lib/python3.12/site-packages (from pandas->datasets) (2.9.0.post0)\n",
            "Requirement already satisfied: pytz>=2020.1 in /root/miniconda3/lib/python3.12/site-packages (from pandas->datasets) (2024.2)\n",
            "Requirement already satisfied: tzdata>=2022.7 in /root/miniconda3/lib/python3.12/site-packages (from pandas->datasets) (2024.2)\n",
            "Requirement already satisfied: mpmath<1.4,>=1.1.0 in /root/miniconda3/lib/python3.12/site-packages (from sympy->torch) (1.3.0)\n",
            "Requirement already satisfied: six>=1.5 in /root/miniconda3/lib/python3.12/site-packages (from python-dateutil>=2.8.2->pandas->datasets) (1.16.0)\n",
            "\u001b[33mWARNING: Running pip as the 'root' user can result in broken permissions and conflicting behaviour with the system package manager, possibly rendering your system unusable.It is recommended to use a virtual environment instead: https://pip.pypa.io/warnings/venv. Use the --root-user-action option if you know what you are doing and want to suppress this warning.\u001b[0m\u001b[33m\n",
            "\u001b[0m"
          ]
        }
      ],
      "source": [
        "!pip install -U \"huggingface_hub[cli]\"\n",
        "!pip install torch transformers[torch] numpy tqdm datasets peft accelerate"
      ]
    },
    {
      "cell_type": "markdown",
      "metadata": {
        "id": "2RDQMBJbqmUU"
      },
      "source": [
        "Download dataset and saves 5%"
      ]
    },
    {
      "cell_type": "code",
      "execution_count": 2,
      "metadata": {
        "colab": {
          "base_uri": "https://localhost:8080/"
        },
        "id": "xqmc6jJNqmUW",
        "outputId": "23d91b9d-baee-400c-bd69-26e8ed7a97a4"
      },
      "outputs": [
        {
          "name": "stderr",
          "output_type": "stream",
          "text": [
            "/root/miniconda3/lib/python3.12/site-packages/tqdm/auto.py:21: TqdmWarning: IProgress not found. Please update jupyter and ipywidgets. See https://ipywidgets.readthedocs.io/en/stable/user_install.html\n",
            "  from .autonotebook import tqdm as notebook_tqdm\n"
          ]
        },
        {
          "name": "stdout",
          "output_type": "stream",
          "text": [
            "5% of the dataset has been saved to 'data/sample_5_percent.csv'\n"
          ]
        }
      ],
      "source": [
        "from datasets import load_dataset\n",
        "import pandas as pd\n",
        "import os\n",
        "\n",
        "# Load the dataset from Hugging Face\n",
        "dataset = load_dataset(\"dmitva/human_ai_generated_text\", split=\"train\")\n",
        "\n",
        "# Calculate 5% of the dataset size\n",
        "sample_size = int(0.05 * len(dataset))\n",
        "\n",
        "# Sample 5% of the data\n",
        "sampled_dataset = dataset.shuffle(seed=42).select(range(sample_size))\n",
        "\n",
        "# Convert to pandas DataFrame for easier handling\n",
        "df = pd.DataFrame(sampled_dataset)\n",
        "\n",
        "# Ensure the 'data' directory exists\n",
        "os.makedirs(\"data\", exist_ok=True)\n",
        "\n",
        "# Save to a CSV file in the 'data' folder\n",
        "df.to_csv(\"data/sample_5_percent.csv\", index=False)\n",
        "\n",
        "print(\"5% of the dataset has been saved to 'data/sample_5_percent.csv'\")\n"
      ]
    },
    {
      "cell_type": "markdown",
      "metadata": {
        "id": "rZbkxsPgqmUY"
      },
      "source": [
        "Read saved data and split into labels 0 (for human) and 1 (for ai)"
      ]
    },
    {
      "cell_type": "code",
      "execution_count": 3,
      "metadata": {
        "colab": {
          "base_uri": "https://localhost:8080/"
        },
        "id": "epmrNu8IqmUZ",
        "outputId": "b13e4de9-0e51-4403-c482-eabcd528dc77"
      },
      "outputs": [
        {
          "name": "stdout",
          "output_type": "stream",
          "text": [
            "The dataset has been saved to data/sample_5_percent.jsonl with the specified format.\n"
          ]
        }
      ],
      "source": [
        "import json\n",
        "\n",
        "# Read the sampled CSV file\n",
        "df = pd.read_csv(\"data/sample_5_percent.csv\")\n",
        "\n",
        "# Initialize an empty list to hold the new records\n",
        "data = []\n",
        "\n",
        "# Process each row to create two entries: one for human text, one for AI text\n",
        "for _, row in df.iterrows():\n",
        "    # Append the human text with label 0\n",
        "    data.append({\n",
        "        \"text\": row[\"human_text\"],\n",
        "        \"instructions\": row[\"instructions\"],\n",
        "        \"label\": 0\n",
        "    })\n",
        "\n",
        "    # Append the AI text with label 1\n",
        "    data.append({\n",
        "        \"text\": row[\"ai_text\"],\n",
        "        \"instructions\": row[\"instructions\"],\n",
        "        \"label\": 1\n",
        "    })\n",
        "\n",
        "# Save the processed data to a JSON file\n",
        "outfile = \"data/sample_5_percent.jsonl\"\n",
        "with open(outfile, \"w\") as f:\n",
        "    for d in data:\n",
        "        json.dump(d, f)\n",
        "        f.write(\"\\n\")\n",
        "\n",
        "print(f\"The dataset has been saved to {outfile} with the specified format.\")"
      ]
    },
    {
      "cell_type": "markdown",
      "metadata": {
        "id": "u0lPEH15tLfk"
      },
      "source": [
        "check if jsonl file is formatted correctly"
      ]
    },
    {
      "cell_type": "code",
      "execution_count": 4,
      "metadata": {
        "id": "n4Rxp8nts1hu"
      },
      "outputs": [],
      "source": [
        "import json\n",
        "\n",
        "data_path = \"data/sample_5_percent.jsonl\"\n",
        "\n",
        "with open(data_path, 'r') as f:\n",
        "    for i, line in enumerate(f, 1):\n",
        "        try:\n",
        "            json.loads(line)\n",
        "        except json.JSONDecodeError as e:\n",
        "            print(f\"JSON decode error on line {i}: {e}\")\n"
      ]
    },
    {
      "cell_type": "code",
      "execution_count": 5,
      "metadata": {
        "id": "FzZwr7yXqmUZ"
      },
      "outputs": [
        {
          "name": "stdout",
          "output_type": "stream",
          "text": [
            "Fetching 8 files:   0%|                                   | 0/8 [00:00<?, ?it/s]Downloading '.gitattributes' to 'models/pythia-160m/.cache/huggingface/download/.gitattributes.c7d9f3332a950355d5a77d85000f05e6f45435ea.incomplete'\n",
            "Downloading 'special_tokens_map.json' to 'models/pythia-160m/.cache/huggingface/download/special_tokens_map.json.0204ed10c186a4c7c68f55dff8f26087a45898d6.incomplete'\n",
            "\n",
            ".gitattributes: 100%|██████████████████████| 1.48k/1.48k [00:00<00:00, 3.00MB/s]\u001b[A\n",
            "Download complete. Moving file to models/pythia-160m/.gitattributes\n",
            "Fetching 8 files:  12%|███▍                       | 1/8 [00:00<00:00,  7.38it/s]Downloading 'README.md' to 'models/pythia-160m/.cache/huggingface/download/README.md.2e8b2b93bf534833600f862c90c0b53fc6f76a46.incomplete'\n",
            "\n",
            "special_tokens_map.json: 100%|████████████████| 99.0/99.0 [00:00<00:00, 991kB/s]\u001b[A\n",
            "Download complete. Moving file to models/pythia-160m/special_tokens_map.json\n",
            "Downloading 'tokenizer.json' to 'models/pythia-160m/.cache/huggingface/download/tokenizer.json.f74dfbfab8f97770a87769c739fb080c21c8bacc.incomplete'\n",
            "Downloading 'model.safetensors' to 'models/pythia-160m/.cache/huggingface/download/model.safetensors.29d2e457a664e41c12c735f20a36dc0956a665f614a54ce5db21a32e75965270.incomplete'\n",
            "\n",
            "tokenizer.json:   0%|                               | 0.00/2.11M [00:00<?, ?B/s]\u001b[A\n",
            "\n",
            "README.md: 100%|███████████████████████████| 13.6k/13.6k [00:00<00:00, 28.1MB/s]\u001b[A\u001b[A\n",
            "Download complete. Moving file to models/pythia-160m/README.md\n",
            "Downloading 'tokenizer_config.json' to 'models/pythia-160m/.cache/huggingface/download/tokenizer_config.json.f1860edb10f80bcaf7b023fce47c68a23b724c23.incomplete'\n",
            "\n",
            "\n",
            "model.safetensors:   0%|                             | 0.00/375M [00:00<?, ?B/s]\u001b[A\u001b[A\n",
            "\n",
            "\n",
            "tokenizer_config.json: 100%|███████████████████| 396/396 [00:00<00:00, 3.40MB/s]\u001b[A\u001b[A\u001b[A\n",
            "Download complete. Moving file to models/pythia-160m/tokenizer_config.json\n",
            "tokenizer.json: 100%|██████████████████████| 2.11M/2.11M [00:00<00:00, 26.5MB/s]\n",
            "Download complete. Moving file to models/pythia-160m/tokenizer.json\n",
            "Downloading 'config.json' to 'models/pythia-160m/.cache/huggingface/download/config.json.b8368ff94f3bcf3088de5e9912251fc0208ae524.incomplete'\n",
            "\n",
            "config.json: 100%|██████████████████████████████| 569/569 [00:00<00:00, 721kB/s]\u001b[A\n",
            "Download complete. Moving file to models/pythia-160m/config.json\n",
            "Fetching 8 files:  38%|██████████▏                | 3/8 [00:00<00:00,  8.40it/s]Downloading 'pytorch_model.bin' to 'models/pythia-160m/.cache/huggingface/download/pytorch_model.bin.8d856725c4a8266f10568cc1269948fc851e2aed1fb230036af2eac68e9df072.incomplete'\n",
            "\n",
            "pytorch_model.bin:   0%|                             | 0.00/375M [00:00<?, ?B/s]\u001b[A\n",
            "\n",
            "model.safetensors:   3%|▌                   | 10.5M/375M [00:00<00:09, 40.4MB/s]\u001b[A\u001b[A\n",
            "\n",
            "model.safetensors:   6%|█                   | 21.0M/375M [00:00<00:11, 32.1MB/s]\u001b[A\u001b[A\n",
            "pytorch_model.bin:   3%|▌                   | 10.5M/375M [00:00<00:27, 13.2MB/s]\u001b[A\n",
            "\n",
            "model.safetensors:   8%|█▋                  | 31.5M/375M [00:01<00:12, 27.6MB/s]\u001b[A\u001b[A\n",
            "\n",
            "model.safetensors:  11%|██▏                 | 41.9M/375M [00:01<00:12, 27.2MB/s]\u001b[A\u001b[A\n",
            "pytorch_model.bin:   6%|█                   | 21.0M/375M [00:01<00:24, 14.2MB/s]\u001b[A\n",
            "\n",
            "model.safetensors:  14%|██▊                 | 52.4M/375M [00:01<00:12, 25.8MB/s]\u001b[A\u001b[A\n",
            "\n",
            "model.safetensors:  17%|███▎                | 62.9M/375M [00:02<00:12, 25.6MB/s]\u001b[A\u001b[A\n",
            "pytorch_model.bin:   8%|█▋                  | 31.5M/375M [00:02<00:24, 14.1MB/s]\u001b[A\n",
            "\n",
            "model.safetensors:  20%|███▉                | 73.4M/375M [00:02<00:12, 24.5MB/s]\u001b[A\u001b[A\n",
            "pytorch_model.bin:  11%|██▏                 | 41.9M/375M [00:02<00:22, 15.1MB/s]\u001b[A\n",
            "\n",
            "model.safetensors:  22%|████▍               | 83.9M/375M [00:03<00:12, 23.4MB/s]\u001b[A\u001b[A\n",
            "pytorch_model.bin:  14%|██▊                 | 52.4M/375M [00:03<00:20, 15.4MB/s]\u001b[A\n",
            "\n",
            "model.safetensors:  25%|█████               | 94.4M/375M [00:03<00:12, 22.7MB/s]\u001b[A\u001b[A\n",
            "\n",
            "model.safetensors:  28%|█████▊               | 105M/375M [00:04<00:11, 23.0MB/s]\u001b[A\u001b[A\n",
            "pytorch_model.bin:  17%|███▎                | 62.9M/375M [00:04<00:20, 15.4MB/s]\u001b[A\n",
            "\n",
            "model.safetensors:  31%|██████▍              | 115M/375M [00:04<00:11, 22.8MB/s]\u001b[A\u001b[A\n",
            "pytorch_model.bin:  20%|███▉                | 73.4M/375M [00:04<00:19, 15.8MB/s]\u001b[A\n",
            "\n",
            "model.safetensors:  34%|███████              | 126M/375M [00:05<00:11, 22.4MB/s]\u001b[A\u001b[A\n",
            "\n",
            "model.safetensors:  36%|███████▋             | 136M/375M [00:05<00:10, 22.3MB/s]\u001b[A\u001b[A\n",
            "pytorch_model.bin:  22%|████▍               | 83.9M/375M [00:05<00:18, 15.9MB/s]\u001b[A\n",
            "\n",
            "model.safetensors:  39%|████████▏            | 147M/375M [00:06<00:10, 21.9MB/s]\u001b[A\u001b[A\n",
            "pytorch_model.bin:  25%|█████               | 94.4M/375M [00:06<00:17, 16.2MB/s]\u001b[A\n",
            "\n",
            "model.safetensors:  42%|████████▊            | 157M/375M [00:06<00:10, 21.6MB/s]\u001b[A\u001b[A\n",
            "pytorch_model.bin:  28%|█████▊               | 105M/375M [00:06<00:16, 16.5MB/s]\u001b[A\n",
            "\n",
            "model.safetensors:  45%|█████████▍           | 168M/375M [00:07<00:09, 21.9MB/s]\u001b[A\u001b[A\n",
            "\n",
            "model.safetensors:  48%|█████████▉           | 178M/375M [00:07<00:08, 22.2MB/s]\u001b[A\u001b[A\n",
            "pytorch_model.bin:  31%|██████▍              | 115M/375M [00:07<00:16, 16.1MB/s]\u001b[A\n",
            "\n",
            "model.safetensors:  50%|██████████▌          | 189M/375M [00:08<00:08, 21.8MB/s]\u001b[A\u001b[A\n",
            "pytorch_model.bin:  34%|███████              | 126M/375M [00:07<00:14, 16.7MB/s]\u001b[A\n",
            "\n",
            "model.safetensors:  53%|███████████▏         | 199M/375M [00:08<00:08, 20.9MB/s]\u001b[A\u001b[A\n",
            "pytorch_model.bin:  36%|███████▋             | 136M/375M [00:08<00:13, 17.4MB/s]\u001b[A\n",
            "pytorch_model.bin:  39%|████████▏            | 147M/375M [00:08<00:12, 18.6MB/s]\u001b[A\n",
            "\n",
            "model.safetensors:  56%|███████████▋         | 210M/375M [00:09<00:08, 19.3MB/s]\u001b[A\u001b[A\n",
            "pytorch_model.bin:  42%|████████▊            | 157M/375M [00:09<00:11, 19.5MB/s]\u001b[A\n",
            "\n",
            "model.safetensors:  59%|████████████▎        | 220M/375M [00:09<00:08, 18.8MB/s]\u001b[A\u001b[A\n",
            "pytorch_model.bin:  45%|█████████▍           | 168M/375M [00:10<00:10, 19.4MB/s]\u001b[A\n",
            "\n",
            "model.safetensors:  62%|████████████▉        | 231M/375M [00:10<00:07, 18.8MB/s]\u001b[A\u001b[A\n",
            "pytorch_model.bin:  48%|█████████▉           | 178M/375M [00:10<00:10, 19.5MB/s]\u001b[A\n",
            "\n",
            "model.safetensors:  64%|█████████████▌       | 241M/375M [00:10<00:07, 18.8MB/s]\u001b[A\u001b[A\n",
            "pytorch_model.bin:  50%|██████████▌          | 189M/375M [00:11<00:09, 19.2MB/s]\u001b[A\n",
            "\n",
            "model.safetensors:  67%|██████████████       | 252M/375M [00:11<00:06, 19.1MB/s]\u001b[A\u001b[A\n",
            "\n",
            "model.safetensors:  70%|██████████████▋      | 262M/375M [00:11<00:05, 19.8MB/s]\u001b[A\u001b[A\n",
            "pytorch_model.bin:  53%|███████████▏         | 199M/375M [00:11<00:09, 18.3MB/s]\u001b[A\n",
            "\n",
            "model.safetensors:  73%|███████████████▎     | 273M/375M [00:12<00:05, 20.1MB/s]\u001b[A\u001b[A\n",
            "pytorch_model.bin:  56%|███████████▋         | 210M/375M [00:12<00:09, 18.3MB/s]\u001b[A\n",
            "pytorch_model.bin:  59%|████████████▎        | 220M/375M [00:12<00:08, 19.2MB/s]\u001b[A\n",
            "\n",
            "model.safetensors:  75%|███████████████▊     | 283M/375M [00:13<00:04, 18.9MB/s]\u001b[A\u001b[A\n",
            "pytorch_model.bin:  62%|████████████▉        | 231M/375M [00:13<00:07, 19.3MB/s]\u001b[A\n",
            "\n",
            "model.safetensors:  78%|████████████████▍    | 294M/375M [00:13<00:04, 19.0MB/s]\u001b[A\u001b[A\n",
            "pytorch_model.bin:  64%|█████████████▌       | 241M/375M [00:13<00:07, 19.1MB/s]\u001b[A\n",
            "\n",
            "model.safetensors:  81%|█████████████████    | 304M/375M [00:14<00:03, 19.1MB/s]\u001b[A\u001b[A\n",
            "\n",
            "model.safetensors:  84%|█████████████████▌   | 315M/375M [00:14<00:03, 19.5MB/s]\u001b[A\u001b[A\n",
            "pytorch_model.bin:  67%|██████████████       | 252M/375M [00:14<00:06, 18.7MB/s]\u001b[A\n",
            "pytorch_model.bin:  70%|██████████████▋      | 262M/375M [00:15<00:05, 19.0MB/s]\u001b[A\n",
            "\n",
            "model.safetensors:  87%|██████████████████▏  | 325M/375M [00:15<00:02, 19.2MB/s]\u001b[A\u001b[A\n",
            "pytorch_model.bin:  73%|███████████████▎     | 273M/375M [00:15<00:05, 19.5MB/s]\u001b[A\n",
            "\n",
            "model.safetensors:  89%|██████████████████▊  | 336M/375M [00:15<00:02, 19.0MB/s]\u001b[A\u001b[A\n",
            "\n",
            "model.safetensors:  92%|███████████████████▍ | 346M/375M [00:16<00:01, 19.5MB/s]\u001b[A\u001b[A\n",
            "pytorch_model.bin:  75%|███████████████▊     | 283M/375M [00:16<00:04, 18.7MB/s]\u001b[A\n",
            "pytorch_model.bin:  78%|████████████████▍    | 294M/375M [00:16<00:04, 19.3MB/s]\u001b[A\n",
            "\n",
            "model.safetensors:  95%|███████████████████▉ | 357M/375M [00:16<00:00, 19.0MB/s]\u001b[A\u001b[A\n",
            "pytorch_model.bin:  81%|█████████████████    | 304M/375M [00:17<00:03, 19.2MB/s]\u001b[A\n",
            "\n",
            "model.safetensors:  98%|████████████████████▌| 367M/375M [00:17<00:00, 19.1MB/s]\u001b[A\u001b[A\n",
            "\n",
            "model.safetensors: 100%|█████████████████████| 375M/375M [00:17<00:00, 20.9MB/s]\u001b[A\u001b[A\n",
            "Download complete. Moving file to models/pythia-160m/model.safetensors\n",
            "Fetching 8 files:  50%|█████████████▌             | 4/8 [00:18<00:25,  6.26s/it]\n",
            "pytorch_model.bin:  84%|█████████████████▌   | 315M/375M [00:17<00:03, 19.5MB/s]\u001b[A\n",
            "pytorch_model.bin:  87%|██████████████████▏  | 325M/375M [00:17<00:02, 22.7MB/s]\u001b[A\n",
            "pytorch_model.bin:  89%|██████████████████▊  | 336M/375M [00:18<00:01, 25.8MB/s]\u001b[A\n",
            "pytorch_model.bin:  92%|███████████████████▍ | 346M/375M [00:18<00:01, 28.7MB/s]\u001b[A\n",
            "pytorch_model.bin:  95%|███████████████████▉ | 357M/375M [00:18<00:00, 30.8MB/s]\u001b[A\n",
            "pytorch_model.bin:  98%|████████████████████▌| 367M/375M [00:19<00:00, 32.7MB/s]\u001b[A\n",
            "pytorch_model.bin: 100%|█████████████████████| 375M/375M [00:19<00:00, 19.4MB/s]\u001b[A\n",
            "Download complete. Moving file to models/pythia-160m/pytorch_model.bin\n",
            "Fetching 8 files: 100%|███████████████████████████| 8/8 [00:19<00:00,  2.49s/it]\n",
            "/mnt/c/Documents/Admin/CMU_Masters_admin/Module_Stuff/11667_LLMs/homework6/models/pythia-160m\n"
          ]
        }
      ],
      "source": [
        "!mkdir -p models/pythia-160m\n",
        "!huggingface-cli download EleutherAI/pythia-160m --local-dir ./models/pythia-160m\n",
        "!cd ../.."
      ]
    },
    {
      "cell_type": "code",
      "execution_count": 6,
      "metadata": {
        "colab": {
          "base_uri": "https://localhost:8080/"
        },
        "id": "Vnp2eBMcwxDb",
        "outputId": "4fc57d9b-025b-4b59-cc54-498baa539f6b"
      },
      "outputs": [
        {
          "name": "stdout",
          "output_type": "stream",
          "text": [
            "\u001b[34m\u001b[1mwandb\u001b[0m: Appending key for api.wandb.ai to your netrc file: /root/.netrc\n"
          ]
        }
      ],
      "source": [
        "!wandb login 7077b7416aa6d8dd6e87ab0b9150b82abed30bd1"
      ]
    },
    {
      "cell_type": "markdown",
      "metadata": {},
      "source": [
        "original training script. can delete (not used)"
      ]
    },
    {
      "cell_type": "code",
      "execution_count": null,
      "metadata": {
        "colab": {
          "base_uri": "https://localhost:8080/",
          "height": 167
        },
        "id": "dHjQy9eXrvf0",
        "outputId": "b471c892-5b23-4c30-9f32-ed9f04ce1708"
      },
      "outputs": [],
      "source": [
        "import torch\n",
        "from transformers import AutoTokenizer, AutoModelForSequenceClassification, Trainer, TrainingArguments\n",
        "from datasets import load_dataset\n",
        "\n",
        "# Specify the local directory where the model was downloaded\n",
        "model_path = \"./models/pythia-160m\"\n",
        "\n",
        "# Load the tokenizer and model for sequence classification\n",
        "tokenizer = AutoTokenizer.from_pretrained(model_path)\n",
        "model = AutoModelForSequenceClassification.from_pretrained(model_path, num_labels=2)  # Two labels for binary classification\n",
        "\n",
        "# Add padding token if it doesn't exist and set it as the pad token\n",
        "if tokenizer.pad_token is None:\n",
        "    tokenizer.add_special_tokens({'pad_token': '[PAD]'})\n",
        "    model.resize_token_embeddings(len(tokenizer))  # Resize model embeddings to match the new pad token\n",
        "\n",
        "# Explicitly set pad_token_id in model configuration\n",
        "model.config.pad_token_id = tokenizer.pad_token_id\n",
        "\n",
        "# Load the dataset\n",
        "data_path = \"data/sample_5_percent.jsonl\"\n",
        "dataset = load_dataset(\"json\", data_files=data_path)\n",
        "\n",
        "# Preprocessing function for tokenization and label mapping\n",
        "def preprocess_function(examples):\n",
        "    # Tokenize the text\n",
        "    inputs = tokenizer(examples[\"text\"], padding=\"max_length\", truncation=True, max_length=128)\n",
        "    inputs[\"labels\"] = examples[\"label\"]  # Use label for classification\n",
        "    return inputs\n",
        "\n",
        "# Tokenize the dataset\n",
        "tokenized_dataset = dataset.map(preprocess_function, batched=True)\n",
        "\n",
        "# Split the dataset for training and evaluation\n",
        "split_datasets = tokenized_dataset[\"train\"].train_test_split(test_size=0.2)\n",
        "train_dataset = split_datasets[\"train\"]\n",
        "eval_dataset = split_datasets[\"test\"]\n",
        "\n",
        "# Set up training arguments\n",
        "training_args = TrainingArguments(\n",
        "    output_dir=\"./models/pythia-160m-finetuned-classifier\",\n",
        "    overwrite_output_dir=True,\n",
        "    num_train_epochs=3,\n",
        "    per_device_train_batch_size=8,\n",
        "    gradient_accumulation_steps=4,\n",
        "    save_strategy=\"epoch\",  # Set save_strategy to epoch\n",
        "    evaluation_strategy=\"epoch\",\n",
        "    save_total_limit=2,\n",
        "    logging_dir='./logs',\n",
        "    logging_steps=100,\n",
        "    load_best_model_at_end=True,\n",
        ")\n",
        "\n",
        "# Initialize the Trainer\n",
        "trainer = Trainer(\n",
        "    model=model,\n",
        "    args=training_args,\n",
        "    train_dataset=train_dataset,\n",
        "    eval_dataset=eval_dataset,\n",
        "    tokenizer=tokenizer,\n",
        ")\n",
        "\n",
        "# Train the model\n",
        "trainer.train()\n",
        "\n",
        "# Save the final model\n",
        "model.save_pretrained(\"./models/pythia-160m-finetuned-classifier\")\n",
        "tokenizer.save_pretrained(\"./models/pythia-160m-finetuned-classifier\")\n",
        "\n",
        "print(\"Model fine-tuning completed and saved to './models/pythia-160m-finetuned-classifier'\")\n"
      ]
    },
    {
      "cell_type": "markdown",
      "metadata": {},
      "source": [
        "lora + freeze first few layers (tested working)"
      ]
    },
    {
      "cell_type": "code",
      "execution_count": 1,
      "metadata": {},
      "outputs": [
        {
          "name": "stderr",
          "output_type": "stream",
          "text": [
            "/root/miniconda3/lib/python3.12/site-packages/tqdm/auto.py:21: TqdmWarning: IProgress not found. Please update jupyter and ipywidgets. See https://ipywidgets.readthedocs.io/en/stable/user_install.html\n",
            "  from .autonotebook import tqdm as notebook_tqdm\n",
            "Some weights of GPTNeoXForSequenceClassification were not initialized from the model checkpoint at ./models/pythia-160m and are newly initialized: ['score.weight']\n",
            "You should probably TRAIN this model on a down-stream task to be able to use it for predictions and inference.\n"
          ]
        },
        {
          "name": "stdout",
          "output_type": "stream",
          "text": [
            "trainable params: 296,448 || all params: 124,262,400 || trainable%: 0.2386\n"
          ]
        },
        {
          "name": "stderr",
          "output_type": "stream",
          "text": [
            "/root/miniconda3/lib/python3.12/site-packages/transformers/training_args.py:1568: FutureWarning: `evaluation_strategy` is deprecated and will be removed in version 4.46 of 🤗 Transformers. Use `eval_strategy` instead\n",
            "  warnings.warn(\n",
            "/tmp/ipykernel_9856/4112543343.py:81: FutureWarning: `tokenizer` is deprecated and will be removed in version 5.0.0 for `Trainer.__init__`. Use `processing_class` instead.\n",
            "  trainer = Trainer(\n"
          ]
        },
        {
          "name": "stdout",
          "output_type": "stream",
          "text": [
            "[2024-11-18 22:30:32,160] [INFO] [real_accelerator.py:203:get_accelerator] Setting ds_accelerator to cuda (auto detect)\n"
          ]
        },
        {
          "name": "stderr",
          "output_type": "stream",
          "text": [
            "/root/miniconda3/compiler_compat/ld: cannot find -laio: No such file or directory\n",
            "collect2: error: ld returned 1 exit status\n",
            "/root/miniconda3/compiler_compat/ld: cannot find -lcufile: No such file or directory\n",
            "collect2: error: ld returned 1 exit status\n"
          ]
        },
        {
          "name": "stdout",
          "output_type": "stream",
          "text": [
            "\u001b[93m [WARNING] \u001b[0m On Ampere and higher architectures please use CUDA 11+\n",
            "\u001b[93m [WARNING] \u001b[0m On Ampere and higher architectures please use CUDA 11+\n",
            "\u001b[93m [WARNING] \u001b[0m On Ampere and higher architectures please use CUDA 11+\n",
            "\u001b[93m [WARNING] \u001b[0m On Ampere and higher architectures please use CUDA 11+\n",
            "\u001b[93m [WARNING] \u001b[0m On Ampere and higher architectures please use CUDA 11+\n",
            "\u001b[93m [WARNING] \u001b[0m On Ampere and higher architectures please use CUDA 11+\n"
          ]
        },
        {
          "name": "stderr",
          "output_type": "stream",
          "text": [
            "\u001b[34m\u001b[1mwandb\u001b[0m: \u001b[33mWARNING\u001b[0m The `run_name` is currently set to the same value as `TrainingArguments.output_dir`. If this was not intended, please specify a different run name by setting the `TrainingArguments.run_name` parameter.\n",
            "\u001b[34m\u001b[1mwandb\u001b[0m: Using wandb-core as the SDK backend.  Please refer to https://wandb.me/wandb-core for more information.\n",
            "\u001b[34m\u001b[1mwandb\u001b[0m: Currently logged in as: \u001b[33mjzlow\u001b[0m (\u001b[33mjzlow-carnegie-mellon-university\u001b[0m). Use \u001b[1m`wandb login --relogin`\u001b[0m to force relogin\n"
          ]
        },
        {
          "data": {
            "text/html": [
              "Tracking run with wandb version 0.18.7"
            ],
            "text/plain": [
              "<IPython.core.display.HTML object>"
            ]
          },
          "metadata": {},
          "output_type": "display_data"
        },
        {
          "data": {
            "text/html": [
              "Run data is saved locally in <code>/mnt/c/Documents/Admin/CMU_Masters_admin/Module_Stuff/11667_LLMs/homework6/wandb/run-20241118_223034-1d5yh2b7</code>"
            ],
            "text/plain": [
              "<IPython.core.display.HTML object>"
            ]
          },
          "metadata": {},
          "output_type": "display_data"
        },
        {
          "data": {
            "text/html": [
              "Syncing run <strong><a href='https://wandb.ai/jzlow-carnegie-mellon-university/huggingface/runs/1d5yh2b7' target=\"_blank\">./models/pythia-160m-finetuned-classifier-lora</a></strong> to <a href='https://wandb.ai/jzlow-carnegie-mellon-university/huggingface' target=\"_blank\">Weights & Biases</a> (<a href='https://wandb.me/developer-guide' target=\"_blank\">docs</a>)<br/>"
            ],
            "text/plain": [
              "<IPython.core.display.HTML object>"
            ]
          },
          "metadata": {},
          "output_type": "display_data"
        },
        {
          "data": {
            "text/html": [
              " View project at <a href='https://wandb.ai/jzlow-carnegie-mellon-university/huggingface' target=\"_blank\">https://wandb.ai/jzlow-carnegie-mellon-university/huggingface</a>"
            ],
            "text/plain": [
              "<IPython.core.display.HTML object>"
            ]
          },
          "metadata": {},
          "output_type": "display_data"
        },
        {
          "data": {
            "text/html": [
              " View run at <a href='https://wandb.ai/jzlow-carnegie-mellon-university/huggingface/runs/1d5yh2b7' target=\"_blank\">https://wandb.ai/jzlow-carnegie-mellon-university/huggingface/runs/1d5yh2b7</a>"
            ],
            "text/plain": [
              "<IPython.core.display.HTML object>"
            ]
          },
          "metadata": {},
          "output_type": "display_data"
        },
        {
          "data": {
            "text/html": [
              "\n",
              "    <div>\n",
              "      \n",
              "      <progress value='7500' max='7500' style='width:300px; height:20px; vertical-align: middle;'></progress>\n",
              "      [7500/7500 19:49, Epoch 3/3]\n",
              "    </div>\n",
              "    <table border=\"1\" class=\"dataframe\">\n",
              "  <thead>\n",
              " <tr style=\"text-align: left;\">\n",
              "      <th>Epoch</th>\n",
              "      <th>Training Loss</th>\n",
              "      <th>Validation Loss</th>\n",
              "    </tr>\n",
              "  </thead>\n",
              "  <tbody>\n",
              "    <tr>\n",
              "      <td>1</td>\n",
              "      <td>0.011300</td>\n",
              "      <td>0.038874</td>\n",
              "    </tr>\n",
              "    <tr>\n",
              "      <td>2</td>\n",
              "      <td>0.012500</td>\n",
              "      <td>0.011636</td>\n",
              "    </tr>\n",
              "    <tr>\n",
              "      <td>3</td>\n",
              "      <td>0.008200</td>\n",
              "      <td>0.008856</td>\n",
              "    </tr>\n",
              "  </tbody>\n",
              "</table><p>"
            ],
            "text/plain": [
              "<IPython.core.display.HTML object>"
            ]
          },
          "metadata": {},
          "output_type": "display_data"
        },
        {
          "name": "stderr",
          "output_type": "stream",
          "text": [
            "/root/miniconda3/lib/python3.12/site-packages/peft/utils/save_and_load.py:257: UserWarning: Setting `save_embedding_layers` to `True` as the embedding layer has been resized during finetuning.\n",
            "  warnings.warn(\n",
            "/root/miniconda3/lib/python3.12/site-packages/peft/utils/save_and_load.py:257: UserWarning: Setting `save_embedding_layers` to `True` as the embedding layer has been resized during finetuning.\n",
            "  warnings.warn(\n",
            "/root/miniconda3/lib/python3.12/site-packages/peft/utils/save_and_load.py:257: UserWarning: Setting `save_embedding_layers` to `True` as the embedding layer has been resized during finetuning.\n",
            "  warnings.warn(\n",
            "/root/miniconda3/lib/python3.12/site-packages/peft/utils/save_and_load.py:257: UserWarning: Setting `save_embedding_layers` to `True` as the embedding layer has been resized during finetuning.\n",
            "  warnings.warn(\n",
            "/root/miniconda3/lib/python3.12/site-packages/peft/utils/save_and_load.py:257: UserWarning: Setting `save_embedding_layers` to `True` as the embedding layer has been resized during finetuning.\n",
            "  warnings.warn(\n"
          ]
        },
        {
          "name": "stdout",
          "output_type": "stream",
          "text": [
            "Model fine-tuning completed and saved to './models/pythia-160m-finetuned-classifier-lora'\n"
          ]
        }
      ],
      "source": [
        "import torch\n",
        "from transformers import AutoTokenizer, AutoModelForSequenceClassification, Trainer, TrainingArguments\n",
        "from datasets import load_dataset\n",
        "from peft import LoraConfig, get_peft_model\n",
        "\n",
        "# Specify the local directory where the model was downloaded\n",
        "model_path = \"./models/pythia-160m\"\n",
        "\n",
        "# Load the tokenizer and model for sequence classification\n",
        "tokenizer = AutoTokenizer.from_pretrained(model_path)\n",
        "model = AutoModelForSequenceClassification.from_pretrained(model_path, num_labels=2)  # Binary classification\n",
        "\n",
        "# Add padding token if it doesn't exist and set it as the pad token\n",
        "if tokenizer.pad_token is None:\n",
        "    tokenizer.add_special_tokens({'pad_token': '[PAD]'})\n",
        "    model.resize_token_embeddings(len(tokenizer))  # Resize model embeddings to match the new pad token\n",
        "\n",
        "# Explicitly set pad_token_id in model configuration\n",
        "model.config.pad_token_id = tokenizer.pad_token_id\n",
        "\n",
        "# LoRA Configuration\n",
        "lora_config = LoraConfig(\n",
        "    task_type=\"SEQ_CLS\",   # Sequence classification\n",
        "    inference_mode=False,\n",
        "    r=16,                  # LoRA rank\n",
        "    lora_alpha=32,         # Scaling factor\n",
        "    lora_dropout=0.1       # Regularization\n",
        ")\n",
        "\n",
        "# Wrap the model with LoRA\n",
        "model = get_peft_model(model, lora_config)\n",
        "\n",
        "# Freeze the first few layers of GPT-NeoX\n",
        "num_layers_to_freeze = 6  # Adjust based on model depth and dataset size\n",
        "\n",
        "# For GPT-NeoX, transformer layers are in model.base_model.gpt_neox.layers\n",
        "for layer in model.base_model.gpt_neox.layers[:num_layers_to_freeze]:\n",
        "    for param in layer.parameters():\n",
        "        param.requires_grad = False\n",
        "\n",
        "# Always ensure the classification head and LoRA layers are trainable\n",
        "model.print_trainable_parameters()  # Check trainable parameters\n",
        "\n",
        "# Load the dataset\n",
        "data_path = \"data/sample_5_percent.jsonl\"\n",
        "dataset = load_dataset(\"json\", data_files=data_path)\n",
        "\n",
        "# Preprocessing function for tokenization and label mapping\n",
        "def preprocess_function(examples):\n",
        "    # Tokenize the text\n",
        "    inputs = tokenizer(examples[\"text\"], padding=\"max_length\", truncation=True, max_length=128)\n",
        "    inputs[\"labels\"] = examples[\"label\"]  # Use label for classification\n",
        "    return inputs\n",
        "\n",
        "# Tokenize the dataset\n",
        "tokenized_dataset = dataset.map(preprocess_function, batched=True)\n",
        "\n",
        "# Split the dataset for training and evaluation\n",
        "split_datasets = tokenized_dataset[\"train\"].train_test_split(test_size=0.2)\n",
        "train_dataset = split_datasets[\"train\"]\n",
        "eval_dataset = split_datasets[\"test\"]\n",
        "\n",
        "# Set up training arguments\n",
        "training_args = TrainingArguments(\n",
        "    output_dir=\"./models/pythia-160m-finetuned-classifier-lora\",\n",
        "    overwrite_output_dir=True,\n",
        "    num_train_epochs=3,\n",
        "    per_device_train_batch_size=8,\n",
        "    gradient_accumulation_steps=4,\n",
        "    save_strategy=\"epoch\",     # Save the model at the end of each epoch\n",
        "    evaluation_strategy=\"epoch\",\n",
        "    save_total_limit=2,\n",
        "    logging_dir='./logs',\n",
        "    logging_steps=100,\n",
        "    load_best_model_at_end=True,\n",
        "    learning_rate=1e-4,        # Adjusted for PEFT\n",
        "    fp16=True,                 # Enable mixed precision training if supported\n",
        ")\n",
        "\n",
        "# Initialize the Trainer\n",
        "trainer = Trainer(\n",
        "    model=model,\n",
        "    args=training_args,\n",
        "    train_dataset=train_dataset,\n",
        "    eval_dataset=eval_dataset,\n",
        "    tokenizer=tokenizer,\n",
        ")\n",
        "\n",
        "# Train the model\n",
        "trainer.train()\n",
        "\n",
        "# Save the final model\n",
        "model.save_pretrained(\"./models/pythia-160m-finetuned-classifier-lora\")\n",
        "tokenizer.save_pretrained(\"./models/pythia-160m-finetuned-classifier-lora\")\n",
        "\n",
        "print(\"Model fine-tuning completed and saved to './models/pythia-160m-finetuned-classifier-lora'\")\n"
      ]
    },
    {
      "cell_type": "markdown",
      "metadata": {},
      "source": [
        "train + evaluate"
      ]
    },
    {
      "cell_type": "code",
      "execution_count": 5,
      "metadata": {},
      "outputs": [
        {
          "name": "stderr",
          "output_type": "stream",
          "text": [
            "Some weights of GPTNeoXForSequenceClassification were not initialized from the model checkpoint at ./models/pythia-160m and are newly initialized: ['score.weight']\n",
            "You should probably TRAIN this model on a down-stream task to be able to use it for predictions and inference.\n"
          ]
        },
        {
          "name": "stdout",
          "output_type": "stream",
          "text": [
            "trainable params: 296,448 || all params: 124,262,400 || trainable%: 0.2386\n"
          ]
        },
        {
          "name": "stderr",
          "output_type": "stream",
          "text": [
            "/root/miniconda3/lib/python3.12/site-packages/transformers/training_args.py:1568: FutureWarning: `evaluation_strategy` is deprecated and will be removed in version 4.46 of 🤗 Transformers. Use `eval_strategy` instead\n",
            "  warnings.warn(\n",
            "/tmp/ipykernel_9856/2074539927.py:90: FutureWarning: `tokenizer` is deprecated and will be removed in version 5.0.0 for `Trainer.__init__`. Use `processing_class` instead.\n",
            "  trainer = Trainer(\n"
          ]
        },
        {
          "data": {
            "text/html": [
              "\n",
              "    <div>\n",
              "      \n",
              "      <progress value='7500' max='7500' style='width:300px; height:20px; vertical-align: middle;'></progress>\n",
              "      [7500/7500 20:51, Epoch 3/3]\n",
              "    </div>\n",
              "    <table border=\"1\" class=\"dataframe\">\n",
              "  <thead>\n",
              " <tr style=\"text-align: left;\">\n",
              "      <th>Epoch</th>\n",
              "      <th>Training Loss</th>\n",
              "      <th>Validation Loss</th>\n",
              "      <th>Accuracy</th>\n",
              "    </tr>\n",
              "  </thead>\n",
              "  <tbody>\n",
              "    <tr>\n",
              "      <td>1</td>\n",
              "      <td>0.013500</td>\n",
              "      <td>0.011972</td>\n",
              "      <td>0.998050</td>\n",
              "    </tr>\n",
              "    <tr>\n",
              "      <td>2</td>\n",
              "      <td>0.005300</td>\n",
              "      <td>0.012388</td>\n",
              "      <td>0.998250</td>\n",
              "    </tr>\n",
              "    <tr>\n",
              "      <td>3</td>\n",
              "      <td>0.001400</td>\n",
              "      <td>0.005379</td>\n",
              "      <td>0.999050</td>\n",
              "    </tr>\n",
              "  </tbody>\n",
              "</table><p>"
            ],
            "text/plain": [
              "<IPython.core.display.HTML object>"
            ]
          },
          "metadata": {},
          "output_type": "display_data"
        },
        {
          "name": "stderr",
          "output_type": "stream",
          "text": [
            "/root/miniconda3/lib/python3.12/site-packages/peft/utils/save_and_load.py:257: UserWarning: Setting `save_embedding_layers` to `True` as the embedding layer has been resized during finetuning.\n",
            "  warnings.warn(\n",
            "/root/miniconda3/lib/python3.12/site-packages/peft/utils/save_and_load.py:257: UserWarning: Setting `save_embedding_layers` to `True` as the embedding layer has been resized during finetuning.\n",
            "  warnings.warn(\n",
            "/root/miniconda3/lib/python3.12/site-packages/peft/utils/save_and_load.py:257: UserWarning: Setting `save_embedding_layers` to `True` as the embedding layer has been resized during finetuning.\n",
            "  warnings.warn(\n",
            "/root/miniconda3/lib/python3.12/site-packages/peft/utils/save_and_load.py:257: UserWarning: Setting `save_embedding_layers` to `True` as the embedding layer has been resized during finetuning.\n",
            "  warnings.warn(\n",
            "/root/miniconda3/lib/python3.12/site-packages/peft/utils/save_and_load.py:257: UserWarning: Setting `save_embedding_layers` to `True` as the embedding layer has been resized during finetuning.\n",
            "  warnings.warn(\n"
          ]
        },
        {
          "name": "stdout",
          "output_type": "stream",
          "text": [
            "Model fine-tuning completed and saved to './models/pythia-160m-finetuned-classifier-lora'\n"
          ]
        },
        {
          "data": {
            "text/html": [
              "\n",
              "    <div>\n",
              "      \n",
              "      <progress value='2500' max='2500' style='width:300px; height:20px; vertical-align: middle;'></progress>\n",
              "      [2500/2500 00:57]\n",
              "    </div>\n",
              "    "
            ],
            "text/plain": [
              "<IPython.core.display.HTML object>"
            ]
          },
          "metadata": {},
          "output_type": "display_data"
        },
        {
          "name": "stdout",
          "output_type": "stream",
          "text": [
            "Evaluation Results: {'eval_loss': 0.0053788283839821815, 'eval_accuracy': 0.99905, 'eval_runtime': 57.6947, 'eval_samples_per_second': 346.652, 'eval_steps_per_second': 43.332, 'epoch': 3.0}\n"
          ]
        }
      ],
      "source": [
        "import torch\n",
        "from transformers import AutoTokenizer, AutoModelForSequenceClassification, Trainer, TrainingArguments\n",
        "from datasets import load_dataset\n",
        "from peft import LoraConfig, get_peft_model\n",
        "from sklearn.metrics import accuracy_score\n",
        "import numpy as np\n",
        "\n",
        "# Specify the local directory where the model was downloaded\n",
        "model_path = \"./models/pythia-160m\"\n",
        "\n",
        "# Load the tokenizer and model for sequence classification\n",
        "tokenizer = AutoTokenizer.from_pretrained(model_path)\n",
        "model = AutoModelForSequenceClassification.from_pretrained(model_path, num_labels=2)  # Binary classification\n",
        "\n",
        "# Add padding token if it doesn't exist and set it as the pad token\n",
        "if tokenizer.pad_token is None:\n",
        "    tokenizer.add_special_tokens({'pad_token': '[PAD]'})\n",
        "    model.resize_token_embeddings(len(tokenizer))  # Resize model embeddings to match the new pad token\n",
        "\n",
        "# Explicitly set pad_token_id in model configuration\n",
        "model.config.pad_token_id = tokenizer.pad_token_id\n",
        "\n",
        "# LoRA Configuration\n",
        "lora_config = LoraConfig(\n",
        "    task_type=\"SEQ_CLS\",   # Sequence classification\n",
        "    inference_mode=False,\n",
        "    r=16,                  # LoRA rank\n",
        "    lora_alpha=32,         # Scaling factor\n",
        "    lora_dropout=0.1       # Regularization\n",
        ")\n",
        "\n",
        "# Wrap the model with LoRA\n",
        "model = get_peft_model(model, lora_config)\n",
        "\n",
        "# Freeze the first few layers of GPT-NeoX\n",
        "num_layers_to_freeze = 6  # Adjust based on model depth and dataset size\n",
        "\n",
        "# For GPT-NeoX, transformer layers are in model.base_model.gpt_neox.layers\n",
        "for layer in model.base_model.gpt_neox.layers[:num_layers_to_freeze]:\n",
        "    for param in layer.parameters():\n",
        "        param.requires_grad = False\n",
        "\n",
        "# Always ensure the classification head and LoRA layers are trainable\n",
        "model.print_trainable_parameters()  # Check trainable parameters\n",
        "\n",
        "# Load the dataset\n",
        "data_path = \"data/sample_5_percent.jsonl\"\n",
        "dataset = load_dataset(\"json\", data_files=data_path)\n",
        "\n",
        "# Preprocessing function for tokenization and label mapping\n",
        "def preprocess_function(examples):\n",
        "    # Tokenize the text\n",
        "    inputs = tokenizer(examples[\"text\"], padding=\"max_length\", truncation=True, max_length=128)\n",
        "    inputs[\"labels\"] = examples[\"label\"]  # Use label for classification\n",
        "    return inputs\n",
        "\n",
        "# Tokenize the dataset\n",
        "tokenized_dataset = dataset.map(preprocess_function, batched=True)\n",
        "\n",
        "# Split the dataset for training and evaluation\n",
        "split_datasets = tokenized_dataset[\"train\"].train_test_split(test_size=0.2)\n",
        "train_dataset = split_datasets[\"train\"]\n",
        "eval_dataset = split_datasets[\"test\"]\n",
        "\n",
        "# Define a function to compute accuracy\n",
        "def compute_metrics(eval_pred):\n",
        "    logits, labels = eval_pred\n",
        "    predictions = np.argmax(logits, axis=-1)  # Take the highest probability class\n",
        "    accuracy = accuracy_score(labels, predictions)\n",
        "    return {\"accuracy\": accuracy}\n",
        "\n",
        "# Set up training arguments\n",
        "training_args = TrainingArguments(\n",
        "    output_dir=\"./models/pythia-160m-finetuned-classifier-lora\",\n",
        "    overwrite_output_dir=True,\n",
        "    num_train_epochs=3,\n",
        "    per_device_train_batch_size=8,\n",
        "    gradient_accumulation_steps=4,\n",
        "    save_strategy=\"epoch\",     # Save the model at the end of each epoch\n",
        "    evaluation_strategy=\"epoch\",\n",
        "    save_total_limit=2,\n",
        "    logging_dir='./logs',\n",
        "    logging_steps=100,\n",
        "    load_best_model_at_end=True,\n",
        "    learning_rate=1e-4,        # Adjusted for PEFT\n",
        "    fp16=True,                 # Enable mixed precision training if supported\n",
        ")\n",
        "\n",
        "# Initialize the Trainer\n",
        "trainer = Trainer(\n",
        "    model=model,\n",
        "    args=training_args,\n",
        "    train_dataset=train_dataset,\n",
        "    eval_dataset=eval_dataset,\n",
        "    tokenizer=tokenizer,\n",
        "    compute_metrics=compute_metrics,  # Add this line\n",
        ")\n",
        "\n",
        "# Train the model\n",
        "trainer.train()\n",
        "\n",
        "# Save the final model\n",
        "model.save_pretrained(\"./models/pythia-160m-finetuned-classifier-lora\")\n",
        "tokenizer.save_pretrained(\"./models/pythia-160m-finetuned-classifier-lora\")\n",
        "\n",
        "print(\"Model fine-tuning completed and saved to './models/pythia-160m-finetuned-classifier-lora'\")\n",
        "\n",
        "# Evaluate the model\n",
        "eval_results = trainer.evaluate()\n",
        "print(f\"Evaluation Results: {eval_results}\")\n"
      ]
    }
  ],
  "metadata": {
    "colab": {
      "include_colab_link": true,
      "provenance": []
    },
    "kernelspec": {
      "display_name": "base",
      "language": "python",
      "name": "python3"
    },
    "language_info": {
      "codemirror_mode": {
        "name": "ipython",
        "version": 3
      },
      "file_extension": ".py",
      "mimetype": "text/x-python",
      "name": "python",
      "nbconvert_exporter": "python",
      "pygments_lexer": "ipython3",
      "version": "3.12.4"
    }
  },
  "nbformat": 4,
  "nbformat_minor": 0
}
